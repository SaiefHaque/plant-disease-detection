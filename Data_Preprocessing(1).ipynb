{
 "cells": [
  {
   "cell_type": "code",
   "execution_count": 28,
   "id": "1a5f2f3c",
   "metadata": {},
   "outputs": [
    {
     "name": "stderr",
     "output_type": "stream",
     "text": [
      "[nltk_data] Downloading package punkt to\n",
      "[nltk_data]     C:\\Users\\Asus\\AppData\\Roaming\\nltk_data...\n",
      "[nltk_data]   Package punkt is already up-to-date!\n",
      "[nltk_data] Downloading package stopwords to\n",
      "[nltk_data]     C:\\Users\\Asus\\AppData\\Roaming\\nltk_data...\n",
      "[nltk_data]   Package stopwords is already up-to-date!\n"
     ]
    }
   ],
   "source": [
    "import re\n",
    "\n",
    "import nltk\n",
    "from nltk.tokenize import word_tokenize\n",
    "from nltk.corpus import stopwords\n",
    "\n",
    "import seaborn as sns\n",
    "\n",
    "\n",
    "nltk.download('punkt')\n",
    "nltk.download('stopwords')\n",
    "import pandas as pd\n",
    "data = pd.read_csv(\"depression_detection.csv\")"
   ]
  },
  {
   "cell_type": "code",
   "execution_count": 29,
   "id": "46755172",
   "metadata": {},
   "outputs": [],
   "source": [
    "pattern_url = re.compile(r'\\[(.+)\\]\\(.+\\)')  # markdown links\n",
    "pattern_subreddit = re.compile(r'r/\\w+\\b')  # subreddits\n",
    "pattern_user = re.compile(r'u/\\w+\\b')  # users\n",
    "\n",
    "# from: https://stackoverflow.com/questions/33404752/removing-emojis-from-a-string-in-python\n",
    "pattern_emoji = re.compile(\"[\"\n",
    "        u\"\\U0001F600-\\U0001F64F\"  # emoticons\n",
    "        u\"\\U0001F300-\\U0001F5FF\"  # symbols & pictographs\n",
    "        u\"\\U0001F680-\\U0001F6FF\"  # transport & map symbols\n",
    "        u\"\\U0001F1E0-\\U0001F1FF\"  # flags (iOS)\n",
    "        u\"\\U00002500-\\U00002BEF\"  # chinese char\n",
    "        u\"\\U00002702-\\U000027B0\"\n",
    "        u\"\\U00002702-\\U000027B0\"\n",
    "        u\"\\U000024C2-\\U0001F251\"\n",
    "        u\"\\U0001f926-\\U0001f937\"\n",
    "        u\"\\U00010000-\\U0010ffff\"\n",
    "        u\"\\u2640-\\u2642\" \n",
    "        u\"\\u2600-\\u2B55\"\n",
    "        u\"\\u200d\"\n",
    "        u\"\\u23cf\"\n",
    "        u\"\\u23e9\"\n",
    "        u\"\\u231a\"\n",
    "        u\"\\ufe0f\"  # dingbats\n",
    "        u\"\\u3030\"\n",
    "                      \"]+\", re.UNICODE)\n",
    "\n",
    "def replace_words(string):\n",
    "    string = pattern_url.sub('_URL_', string)\n",
    "    string = pattern_subreddit.sub('_SUB_', string)\n",
    "    string = pattern_user.sub('_USER_', string)\n",
    "    string = pattern_emoji.sub('', string)\n",
    "    return string"
   ]
  },
  {
   "cell_type": "code",
   "execution_count": 30,
   "id": "8b7cdc02",
   "metadata": {},
   "outputs": [],
   "source": [
    "# remove usernames, links, subs, and emojis\n",
    "data['text'] = data['text'].apply(replace_words)\n",
    "\n",
    "# remove reddit anomalies\n",
    "data = data[data['text'].str.find('[removed]') == -1]\n",
    "data = data[data['text'].str.find('[deleted]') == -1]"
   ]
  },
  {
   "cell_type": "code",
   "execution_count": 34,
   "id": "7402c8a5",
   "metadata": {},
   "outputs": [],
   "source": [
    "all_words_suicide = []\n",
    "data['text']=data['text'].apply(lambda w: w.lower() for w in word_tokenize(w))"
   ]
  },
  {
   "cell_type": "code",
   "execution_count": 37,
   "id": "b05267a7",
   "metadata": {},
   "outputs": [],
   "source": [
    "stopwords_filtered = stopwords.words('english')[:stopwords.words('english').index('aren')]"
   ]
  },
  {
   "cell_type": "code",
   "execution_count": 38,
   "id": "061dd199",
   "metadata": {},
   "outputs": [],
   "source": [
    "data['text'] = data['text'].apply(lambda x: ' '.join([word for word in x.split() if word not in (stopwords_filtered)]))"
   ]
  },
  {
   "cell_type": "code",
   "execution_count": 42,
   "id": "a3449a91",
   "metadata": {},
   "outputs": [],
   "source": [
    "from sklearn.preprocessing import LabelEncoder\n",
    "le = LabelEncoder()\n",
    "data['class'] = le.fit_transform(data['class'])"
   ]
  },
  {
   "cell_type": "code",
   "execution_count": 56,
   "id": "d44ea77b",
   "metadata": {},
   "outputs": [
    {
     "data": {
      "text/html": [
       "<div>\n",
       "<style scoped>\n",
       "    .dataframe tbody tr th:only-of-type {\n",
       "        vertical-align: middle;\n",
       "    }\n",
       "\n",
       "    .dataframe tbody tr th {\n",
       "        vertical-align: top;\n",
       "    }\n",
       "\n",
       "    .dataframe thead th {\n",
       "        text-align: right;\n",
       "    }\n",
       "</style>\n",
       "<table border=\"1\" class=\"dataframe\">\n",
       "  <thead>\n",
       "    <tr style=\"text-align: right;\">\n",
       "      <th></th>\n",
       "      <th>Unnamed: 0</th>\n",
       "      <th>text</th>\n",
       "      <th>class</th>\n",
       "    </tr>\n",
       "  </thead>\n",
       "  <tbody>\n",
       "    <tr>\n",
       "      <th>0</th>\n",
       "      <td>2</td>\n",
       "      <td>ex wife threatening suiciderecently left wife ...</td>\n",
       "      <td>1</td>\n",
       "    </tr>\n",
       "    <tr>\n",
       "      <th>1</th>\n",
       "      <td>3</td>\n",
       "      <td>weird get affected compliments coming someone ...</td>\n",
       "      <td>0</td>\n",
       "    </tr>\n",
       "    <tr>\n",
       "      <th>2</th>\n",
       "      <td>4</td>\n",
       "      <td>finally 2020 almost over... never hear \"2020 b...</td>\n",
       "      <td>0</td>\n",
       "    </tr>\n",
       "    <tr>\n",
       "      <th>3</th>\n",
       "      <td>8</td>\n",
       "      <td>need helpjust help im crying hard</td>\n",
       "      <td>1</td>\n",
       "    </tr>\n",
       "    <tr>\n",
       "      <th>4</th>\n",
       "      <td>9</td>\n",
       "      <td>i’m losthello, name adam (16) i’ve struggling ...</td>\n",
       "      <td>1</td>\n",
       "    </tr>\n",
       "  </tbody>\n",
       "</table>\n",
       "</div>"
      ],
      "text/plain": [
       "   Unnamed: 0                                               text  class\n",
       "0           2  ex wife threatening suiciderecently left wife ...      1\n",
       "1           3  weird get affected compliments coming someone ...      0\n",
       "2           4  finally 2020 almost over... never hear \"2020 b...      0\n",
       "3           8                  need helpjust help im crying hard      1\n",
       "4           9  i’m losthello, name adam (16) i’ve struggling ...      1"
      ]
     },
     "execution_count": 56,
     "metadata": {},
     "output_type": "execute_result"
    }
   ],
   "source": [
    "data.head()"
   ]
  },
  {
   "cell_type": "code",
   "execution_count": 57,
   "id": "732c64f8",
   "metadata": {},
   "outputs": [
    {
     "data": {
      "text/plain": [
       "Unnamed: 0    0\n",
       "text          0\n",
       "class         0\n",
       "dtype: int64"
      ]
     },
     "execution_count": 57,
     "metadata": {},
     "output_type": "execute_result"
    }
   ],
   "source": [
    "data.isnull().sum()"
   ]
  },
  {
   "cell_type": "code",
   "execution_count": 55,
   "id": "7c7dfe91",
   "metadata": {},
   "outputs": [],
   "source": [
    "data.to_csv('preprocessed_data')"
   ]
  }
 ],
 "metadata": {
  "kernelspec": {
   "display_name": "Python 3 (ipykernel)",
   "language": "python",
   "name": "python3"
  },
  "language_info": {
   "codemirror_mode": {
    "name": "ipython",
    "version": 3
   },
   "file_extension": ".py",
   "mimetype": "text/x-python",
   "name": "python",
   "nbconvert_exporter": "python",
   "pygments_lexer": "ipython3",
   "version": "3.9.5"
  }
 },
 "nbformat": 4,
 "nbformat_minor": 5
}
